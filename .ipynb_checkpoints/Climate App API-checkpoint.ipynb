{
 "cells": [
  {
   "cell_type": "code",
   "execution_count": 15,
   "id": "9019452a",
   "metadata": {},
   "outputs": [],
   "source": [
    "import pandas as pd\n",
    "import numpy as np\n",
    "import datetime as dt\n",
    "import sqlalchemy\n",
    "from sqlalchemy.ext.automap import automap_base\n",
    "from sqlalchemy.orm import Session\n",
    "from sqlalchemy import create_engine, func\n",
    "from flask import Flask, jsonify"
   ]
  },
  {
   "cell_type": "code",
   "execution_count": 16,
   "id": "b04c70c0",
   "metadata": {},
   "outputs": [],
   "source": [
    "engine = create_engine(\"sqlite:///Resources/hawaii.sqlite\")"
   ]
  },
  {
   "cell_type": "code",
   "execution_count": 17,
   "id": "e0db5eeb",
   "metadata": {},
   "outputs": [],
   "source": [
    "Base = automap_base()\n",
    "\n",
    "Base.prepare(engine, reflect=True)"
   ]
  },
  {
   "cell_type": "code",
   "execution_count": 18,
   "id": "5fde2aa0",
   "metadata": {},
   "outputs": [
    {
     "data": {
      "text/plain": [
       "['measurement', 'station']"
      ]
     },
     "execution_count": 18,
     "metadata": {},
     "output_type": "execute_result"
    }
   ],
   "source": [
    "Base.classes.keys()"
   ]
  },
  {
   "cell_type": "code",
   "execution_count": 19,
   "id": "1344ed21",
   "metadata": {},
   "outputs": [],
   "source": [
    "Measurement = Base.classes.measurement\n",
    "Station = Base.classes.station"
   ]
  },
  {
   "cell_type": "code",
   "execution_count": 20,
   "id": "9454aa5a",
   "metadata": {},
   "outputs": [],
   "source": [
    "app = Flask(__name__)"
   ]
  },
  {
   "cell_type": "code",
   "execution_count": 21,
   "id": "63495191",
   "metadata": {},
   "outputs": [],
   "source": [
    "@app.route(\"/\")  \n",
    "def home():  \n",
    "    return (f\"Hello, welcome to Surfs Up Climate API!<br>\"\n",
    "            f\"All Available Routes<br>\"\n",
    "            f\"/api/v1.0/precipitation<br>\"\n",
    "            f\"/api/v1.0/stations<br>\"\n",
    "            f\"/api/v1.0/tobs<br>\"\n",
    "            f\"/api/v1.0/<start><br>\"\n",
    "            f\"/api/v1.0/<start>/<end><br>\")"
   ]
  },
  {
   "cell_type": "code",
   "execution_count": 22,
   "id": "39af0ac2",
   "metadata": {},
   "outputs": [],
   "source": [
    "@app.route(\"/api/v1.0/precipitation\")\n",
    "def precipitation():\n",
    "    results = session.query(Measurement).all()\n",
    "    date_prcp = []\n",
    "    for result in results:\n",
    "        date_prcp_dict = {result.date, result.prcp}\n",
    "        data_prcp.append(data_prcp_dict)\n",
    "    return jsonify(data_prcp)"
   ]
  },
  {
   "cell_type": "code",
   "execution_count": 23,
   "id": "a0238e7c",
   "metadata": {},
   "outputs": [],
   "source": [
    "@app.route(\"/api/v1.0/stations\")\n",
    "def stations():\n",
    "    results = session.query(Station.station).all()\n",
    "    stations_list = list(np.ravel(results))\n",
    "    return jsonify(stations_list)"
   ]
  },
  {
   "cell_type": "code",
   "execution_count": 24,
   "id": "9b665053",
   "metadata": {},
   "outputs": [],
   "source": [
    "@app.route(\"/api/v1.0/tobs\")\n",
    "def tobs():\n",
    "    last_twelve_months = dt.date(2017,8,23) - dt.timedelta(days=365)\n",
    "    Active_station = session.query(Measurement.station, func.count(Measurement.station)).group_by(Measurement.station).order_by(func.count(Measurement.station).desc()).first()\n",
    "    Active_station_tobs = session.query(Measurement.station, Measurement.tobs).filter(Measurement.station == Active_station).filter(Measurement.date >= last_twelve_months).all()\n",
    "    Active_station_tobs_list = list(np.ravel(Active_station_tobs))\n",
    "    return jsonify(Active_station_tobs_list)"
   ]
  },
  {
   "cell_type": "code",
   "execution_count": 33,
   "id": "eacd52db",
   "metadata": {},
   "outputs": [],
   "source": [
    "@app.route(\"/api/v1.0/<start>\")\n",
    "def start(start):\n",
    "    Start_date = dt.datetime.strptime(start,\"%y-%m-%d\")\n",
    "    Start_temp_range = session.query(func.min(Measurement.tobs),func.avg(Measurement.tobs),func.max(Measurement.tobs)).filter(Measurement.date >= Start_date).all()\n",
    "    Start_list = list(np.ravel(Start_temp_range))\n",
    "    return jsonify(Start_list)"
   ]
  },
  {
   "cell_type": "code",
   "execution_count": 35,
   "id": "8ce0524f",
   "metadata": {},
   "outputs": [],
   "source": [
    "@app.route(\"/api/v1.0/<start>/<end>\")\n",
    "def startandend(start,end):\n",
    "    Start_date = dt.datetime.strptime(start,\"%y-%m-%d\")\n",
    "    End_date = dt.datetime.strptime(end,\"%y-%m-%d\")\n",
    "    Start_end_range = session.query(func.min(Measurement.tobs),func.avg(Measurement.tobs),func.max(Measurement.tobs)).filter(Measurement.date.between(Start_date,End_date)).all()\n",
    "    Start_end_list = list(np.ravel(Start_end_range))\n",
    "    return jsonify(Start_end_list)"
   ]
  },
  {
   "cell_type": "code",
   "execution_count": null,
   "id": "9578e6ca",
   "metadata": {},
   "outputs": [],
   "source": []
  }
 ],
 "metadata": {
  "kernelspec": {
   "display_name": "Python 3",
   "language": "python",
   "name": "python3"
  },
  "language_info": {
   "codemirror_mode": {
    "name": "ipython",
    "version": 3
   },
   "file_extension": ".py",
   "mimetype": "text/x-python",
   "name": "python",
   "nbconvert_exporter": "python",
   "pygments_lexer": "ipython3",
   "version": "3.8.8"
  }
 },
 "nbformat": 4,
 "nbformat_minor": 5
}
